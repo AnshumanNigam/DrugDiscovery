{
  "nbformat": 4,
  "nbformat_minor": 0,
  "metadata": {
    "colab": {
      "provenance": [],
      "include_colab_link": true
    },
    "kernelspec": {
      "name": "python3",
      "display_name": "Python 3"
    }
  },
  "cells": [
    {
      "cell_type": "markdown",
      "metadata": {
        "id": "view-in-github",
        "colab_type": "text"
      },
      "source": [
        "<a href=\"https://colab.research.google.com/github/AnshumanNigam/DrugDiscovery/blob/main/Module_2.ipynb\" target=\"_parent\"><img src=\"https://colab.research.google.com/assets/colab-badge.svg\" alt=\"Open In Colab\"/></a>"
      ]
    },
    {
      "cell_type": "markdown",
      "metadata": {
        "id": "l0Y7_lgN4jzM"
      },
      "source": [
        "# **Computational Drug Discovery [Module 2] Exploratory Data Analysis**\n",
        "\n",
        "In **Module 2**, we will be performing Descriptor Calculation and Exploratory Data Analysis.\n",
        "\n",
        "Read more here: https://towardsdatascience.com/a-gentle-introduction-to-exploratory-data-analysis-f11d843b8184\n",
        "\n",
        "---"
      ]
    },
    {
      "cell_type": "markdown",
      "metadata": {
        "id": "o-4IOizard4P"
      },
      "source": [
        "## **Install conda and rdkit**\n",
        "RDKit is open-source toolkit for cheminformatics. We will use it to calculate descriptors."
      ]
    },
    {
      "cell_type": "code",
      "metadata": {
        "id": "H0mjQ2PcrSe5"
      },
      "source": [
        "! wget https://repo.anaconda.com/miniconda/Miniconda3-py37_4.8.2-Linux-x86_64.sh\n",
        "! chmod +x Miniconda3-py37_4.8.2-Linux-x86_64.sh\n",
        "! bash ./Miniconda3-py37_4.8.2-Linux-x86_64.sh -b -f -p /usr/local\n",
        "! conda install -c rdkit rdkit -y\n",
        "! pip install deepchem\n",
        "import sys\n",
        "sys.path.append('/usr/local/lib/python3.7/site-packages/')"
      ],
      "execution_count": null,
      "outputs": []
    },
    {
      "cell_type": "markdown",
      "metadata": {
        "id": "QmxXXFa4wTNG"
      },
      "source": [
        "## **Load bioactivity data**\n",
        "This is the same file you generated at the end of last module."
      ]
    },
    {
      "cell_type": "code",
      "metadata": {
        "id": "4jXqIPHbaq-b"
      },
      "source": [
        "! wget https://raw.githubusercontent.com/redrodeo03/QSTP-drug/main/acetylcholinesterase_03_bioactivity_data_curated.csv"
      ],
      "execution_count": null,
      "outputs": []
    },
    {
      "cell_type": "code",
      "metadata": {
        "id": "Fpu5C7HlwV9s"
      },
      "source": [
        "import pandas as pd"
      ],
      "execution_count": null,
      "outputs": []
    },
    {
      "cell_type": "code",
      "metadata": {
        "id": "GCcE8J5XwjtB"
      },
      "source": [
        "df = pd.read_csv('acetylcholinesterase_03_bioactivity_data_curated.csv')\n",
        "df"
      ],
      "execution_count": null,
      "outputs": []
    },
    {
      "cell_type": "code",
      "metadata": {
        "id": "7AMm19NW0bJR"
      },
      "source": [
        "df_no_smiles = df.drop(columns='canonical_smiles')"
      ],
      "execution_count": null,
      "outputs": []
    },
    {
      "cell_type": "code",
      "metadata": {
        "id": "aymiQsfdr5sY"
      },
      "source": [
        "smiles = []\n",
        "\n",
        "for i in df.canonical_smiles.tolist():\n",
        "  cpd = str(i).split('.')\n",
        "  cpd_longest = max(cpd, key = len)\n",
        "  smiles.append(cpd_longest)\n",
        "\n",
        "smiles = pd.Series(smiles, name = 'canonical_smiles')"
      ],
      "execution_count": null,
      "outputs": []
    },
    {
      "cell_type": "code",
      "metadata": {
        "id": "l7a8qW_U85ZK"
      },
      "source": [
        "df_clean_smiles = pd.concat([df_no_smiles,smiles], axis=1)\n",
        "df_clean_smiles"
      ],
      "execution_count": null,
      "outputs": []
    },
    {
      "cell_type": "markdown",
      "metadata": {
        "id": "YzN_S4Quro5S"
      },
      "source": [
        "## **Calculate Lipinski descriptors**\n",
        "Christopher Lipinski, a scientist at Pfizer, came up with a set of rule-of-thumb for evaluating the **druglikeness** of compounds. Such druglikeness is based on the Absorption, Distribution, Metabolism and Excretion (ADME) that is also known as the pharmacokinetic profile. Lipinski analyzed all orally active FDA-approved drugs in the formulation of what is to be known as the **Rule-of-Five** or **Lipinski's Rule**.\n",
        "\n",
        "The Lipinski's Rule stated the following:\n",
        "* Molecular weight < 500 Dalton\n",
        "* Octanol-water partition coefficient (LogP) < 5\n",
        "* Hydrogen bond donors < 5\n",
        "* Hydrogen bond acceptors < 10"
      ]
    },
    {
      "cell_type": "markdown",
      "metadata": {
        "id": "9qn_eQcnxY7C"
      },
      "source": [
        "### **Import libraries**"
      ]
    },
    {
      "cell_type": "code",
      "metadata": {
        "id": "CgBjIdT-rnRU"
      },
      "source": [
        "import numpy as np\n",
        "from rdkit import Chem\n",
        "from rdkit.Chem import Descriptors, Lipinski"
      ],
      "execution_count": null,
      "outputs": []
    },
    {
      "cell_type": "markdown",
      "metadata": {
        "id": "JsgTV-ByxdMa"
      },
      "source": [
        "### **Calculate descriptors**"
      ]
    },
    {
      "cell_type": "code",
      "metadata": {
        "id": "bCXEY7a9ugO_"
      },
      "source": [
        "# Inspired by: https://codeocean.com/explore/capsules?query=tag:data-curation\n",
        "\n",
        "def lipinski(smiles, verbose=False):\n",
        "\n",
        "    moldata= []\n",
        "    for elem in smiles:\n",
        "        mol=Chem.MolFromSmiles(elem)\n",
        "        moldata.append(mol)\n",
        "\n",
        "    baseData= np.arange(1,1)\n",
        "    i=0\n",
        "    for mol in moldata:\n",
        "\n",
        "        desc_MolWt = Descriptors.MolWt(mol)\n",
        "        desc_MolLogP = Descriptors.MolLogP(mol)\n",
        "        desc_NumHDonors = Lipinski.NumHDonors(mol)\n",
        "        desc_NumHAcceptors = Lipinski.NumHAcceptors(mol)\n",
        "\n",
        "        row = np.array([desc_MolWt,\n",
        "                        desc_MolLogP,\n",
        "                        desc_NumHDonors,\n",
        "                        desc_NumHAcceptors])\n",
        "\n",
        "        if(i==0):\n",
        "            baseData=row\n",
        "        else:\n",
        "            baseData=np.vstack([baseData, row])\n",
        "        i=i+1\n",
        "\n",
        "    columnNames=[\"MW\",\"LogP\",\"NumHDonors\",\"NumHAcceptors\"]\n",
        "    descriptors = pd.DataFrame(data=baseData,columns=columnNames)\n",
        "\n",
        "    return descriptors"
      ],
      "execution_count": null,
      "outputs": []
    },
    {
      "cell_type": "code",
      "metadata": {
        "id": "ThFIFw8IukMY"
      },
      "source": [
        "df_lipinski = lipinski(df_clean_smiles.canonical_smiles)\n",
        "df_lipinski"
      ],
      "execution_count": null,
      "outputs": []
    },
    {
      "cell_type": "markdown",
      "metadata": {
        "id": "gUMlPfFrxicj"
      },
      "source": [
        "### **Combine DataFrames**\n",
        "\n",
        "Let's take a look at the 2 DataFrames that will be combined."
      ]
    },
    {
      "cell_type": "code",
      "metadata": {
        "id": "DaezyM5vwp9n"
      },
      "source": [
        "df_lipinski"
      ],
      "execution_count": null,
      "outputs": []
    },
    {
      "cell_type": "code",
      "metadata": {
        "id": "9-ChzM8_wuq_"
      },
      "source": [
        "df"
      ],
      "execution_count": null,
      "outputs": []
    },
    {
      "cell_type": "markdown",
      "metadata": {
        "id": "eET6iZ1Aw3oe"
      },
      "source": [
        "Now, let's combine the 2 DataFrame"
      ]
    },
    {
      "cell_type": "code",
      "metadata": {
        "id": "L9nUZC0Ww3gp"
      },
      "source": [
        "df_combined = pd.concat([df,df_lipinski], axis=1)"
      ],
      "execution_count": null,
      "outputs": []
    },
    {
      "cell_type": "code",
      "metadata": {
        "id": "FRBfBP3QxFJp"
      },
      "source": [
        "df_combined"
      ],
      "execution_count": null,
      "outputs": []
    },
    {
      "cell_type": "markdown",
      "metadata": {
        "id": "e0MLOedB6j96"
      },
      "source": [
        "### **Convert IC50 to pIC50**\n",
        "To allow **IC50** data to be more uniformly distributed, we will convert **IC50** to the negative logarithmic scale which is essentially **-log10(IC50)**.\n",
        "\n",
        "This custom function pIC50() will accept a DataFrame as input and will:\n",
        "* Take the IC50 values from the ``standard_value`` column and converts it from nM to M by multiplying the value by 10$^{-9}$\n",
        "* Take the molar value and apply -log10\n",
        "* Delete the ``standard_value`` column and create a new ``pIC50`` column\n",
        "![image.png](data:image/png;base64,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)"
      ]
    },
    {
      "cell_type": "code",
      "metadata": {
        "id": "UXMuFQoQ4pZF"
      },
      "source": [
        "# https://github.com/chaninlab/estrogen-receptor-alpha-qsar/blob/master/02_ER_alpha_RO5.ipynb\n",
        "\n",
        "import numpy as np\n",
        "\n",
        "def pIC50(input):\n",
        "    pIC50 = []\n",
        "\n",
        "    for i in input['standard_value_norm']:\n",
        "        molar = i*(10**-9) # Converts nM to M\n",
        "        pIC50.append(-np.log10(molar))\n",
        "\n",
        "    input['pIC50'] = pIC50\n",
        "    x = input.drop('standard_value_norm', 1)\n",
        "\n",
        "    return x"
      ],
      "execution_count": null,
      "outputs": []
    },
    {
      "cell_type": "markdown",
      "metadata": {
        "id": "WU5Fh1h2OaJJ"
      },
      "source": [
        "Point to note: Values greater than 100,000,000 will be fixed at 100,000,000 otherwise the negative logarithmic value will become negative."
      ]
    },
    {
      "cell_type": "code",
      "metadata": {
        "id": "QuUTFUpcR1wU"
      },
      "source": [
        "df_combined.standard_value.describe()"
      ],
      "execution_count": null,
      "outputs": []
    },
    {
      "cell_type": "code",
      "metadata": {
        "id": "QyiJ0to5N6Z_"
      },
      "source": [
        "-np.log10( (10**-9)* 100000000 )"
      ],
      "execution_count": null,
      "outputs": []
    },
    {
      "cell_type": "code",
      "metadata": {
        "id": "9S1aJkOYOP6K"
      },
      "source": [
        "-np.log10( (10**-9)* 10000000000 )"
      ],
      "execution_count": null,
      "outputs": []
    },
    {
      "cell_type": "code",
      "metadata": {
        "id": "iktHDDwtPDwl"
      },
      "source": [
        "def norm_value(input):\n",
        "    norm = []\n",
        "\n",
        "    for i in input['standard_value']:\n",
        "        if i > 100000000:\n",
        "          i = 100000000\n",
        "        norm.append(i)\n",
        "\n",
        "    input['standard_value_norm'] = norm\n",
        "    x = input.drop('standard_value', 1)\n",
        "\n",
        "    return x"
      ],
      "execution_count": null,
      "outputs": []
    },
    {
      "cell_type": "markdown",
      "metadata": {
        "id": "EkrTs7RfPsrH"
      },
      "source": [
        "We will first apply the norm_value() function so that the values in the standard_value column is normalized."
      ]
    },
    {
      "cell_type": "code",
      "metadata": {
        "id": "EX2Mj2-ZP1Rj"
      },
      "source": [
        "df_norm = norm_value(df_combined)\n",
        "df_norm"
      ],
      "execution_count": null,
      "outputs": []
    },
    {
      "cell_type": "code",
      "metadata": {
        "id": "hb1eKrIjRiH9"
      },
      "source": [
        "df_norm.standard_value_norm.describe()"
      ],
      "execution_count": null,
      "outputs": []
    },
    {
      "cell_type": "code",
      "metadata": {
        "id": "UDKZzmK57YnS"
      },
      "source": [
        "df_final = pIC50(df_norm)\n",
        "df_final"
      ],
      "execution_count": null,
      "outputs": []
    },
    {
      "cell_type": "code",
      "metadata": {
        "id": "BoqY53udSTYC"
      },
      "source": [
        "df_final.pIC50.describe()"
      ],
      "execution_count": null,
      "outputs": []
    },
    {
      "cell_type": "markdown",
      "metadata": {
        "id": "TTB-xkOcgwRX"
      },
      "source": [
        "Let's write this to CSV file."
      ]
    },
    {
      "cell_type": "code",
      "metadata": {
        "id": "sbZfHUSOgykw"
      },
      "source": [
        "df_final.to_csv('acetylcholinesterase_04_bioactivity_data_3class_pIC50.csv')"
      ],
      "execution_count": null,
      "outputs": []
    },
    {
      "cell_type": "markdown",
      "metadata": {
        "id": "05vHBWvqaQtb"
      },
      "source": [
        "### **Removing the 'intermediate' bioactivity class**\n",
        "Here, we will be removing the ``intermediate`` class from our data set."
      ]
    },
    {
      "cell_type": "code",
      "metadata": {
        "id": "HmrndhDW3c7Z"
      },
      "source": [
        "df_2class = df_final[df_final['class'] != 'intermediate']\n",
        "df_2class"
      ],
      "execution_count": null,
      "outputs": []
    },
    {
      "cell_type": "markdown",
      "metadata": {
        "id": "GJGRNXXigd1o"
      },
      "source": [
        "Let's write this to CSV file."
      ]
    },
    {
      "cell_type": "code",
      "metadata": {
        "id": "XIiYdeL5ghCo"
      },
      "source": [
        "df_2class.to_csv('acetylcholinesterase_05_bioactivity_data_2class_pIC50.csv')"
      ],
      "execution_count": null,
      "outputs": []
    },
    {
      "cell_type": "markdown",
      "metadata": {
        "id": "p9vA4-hQQ8sA"
      },
      "source": [
        "---"
      ]
    },
    {
      "cell_type": "markdown",
      "metadata": {
        "id": "x0vqbQWfxsZu"
      },
      "source": [
        "## **Exploratory Data Analysis (Chemical Space Analysis) via Lipinski descriptors**"
      ]
    },
    {
      "cell_type": "markdown",
      "metadata": {
        "id": "18heJagiyHoF"
      },
      "source": [
        "### **Import library**"
      ]
    },
    {
      "cell_type": "code",
      "metadata": {
        "id": "0Egq_rNsxtIj"
      },
      "source": [
        "import seaborn as sns\n",
        "sns.set(style='ticks')\n",
        "import matplotlib.pyplot as plt"
      ],
      "execution_count": null,
      "outputs": []
    },
    {
      "cell_type": "markdown",
      "metadata": {
        "id": "NiarmFbOdG3H"
      },
      "source": [
        "### **Frequency plot of the 2 bioactivity classes**"
      ]
    },
    {
      "cell_type": "code",
      "metadata": {
        "id": "w2Ia0iycdMO2"
      },
      "source": [
        "plt.figure(figsize=(5.5, 5.5))\n",
        "\n",
        "sns.countplot(x='class', data=df_2class, edgecolor='black')\n",
        "\n",
        "plt.xlabel('Bioactivity class', fontsize=14, fontweight='bold')\n",
        "plt.ylabel('Frequency', fontsize=14, fontweight='bold')\n",
        "\n",
        "plt.savefig('plot_bioactivity_class.pdf')"
      ],
      "execution_count": null,
      "outputs": []
    },
    {
      "cell_type": "markdown",
      "metadata": {
        "id": "wB68NKVG0j68"
      },
      "source": [
        "### **Scatter plot of MW versus LogP**\n",
        "\n",
        "It can be seen that the 2 bioactivity classes are spanning similar chemical spaces as evident by the scatter plot of MW vs LogP."
      ]
    },
    {
      "cell_type": "code",
      "metadata": {
        "id": "F79BNwjF0nub"
      },
      "source": [
        "plt.figure(figsize=(5.5, 5.5))\n",
        "\n",
        "sns.scatterplot(x='MW', y='LogP', data=df_2class, hue='class', size='pIC50', edgecolor='black', alpha=0.7)\n",
        "\n",
        "plt.xlabel('MW', fontsize=14, fontweight='bold')\n",
        "plt.ylabel('LogP', fontsize=14, fontweight='bold')\n",
        "plt.legend(bbox_to_anchor=(1.05, 1), loc=2, borderaxespad=0)\n",
        "plt.savefig('plot_MW_vs_LogP.pdf')"
      ],
      "execution_count": null,
      "outputs": []
    },
    {
      "cell_type": "markdown",
      "metadata": {
        "id": "oLAfyRwHyJfX"
      },
      "source": [
        "### **Box plots**"
      ]
    },
    {
      "cell_type": "markdown",
      "metadata": {
        "id": "1n1uIAivyOkY"
      },
      "source": [
        "#### **pIC50 value**"
      ]
    },
    {
      "cell_type": "code",
      "metadata": {
        "id": "EpPviw0hxue6"
      },
      "source": [
        "plt.figure(figsize=(5.5, 5.5))\n",
        "\n",
        "sns.boxplot(x = 'class', y = 'pIC50', data = df_2class)\n",
        "\n",
        "plt.xlabel('Bioactivity class', fontsize=14, fontweight='bold')\n",
        "plt.ylabel('pIC50 value', fontsize=14, fontweight='bold')\n",
        "\n",
        "plt.savefig('plot_ic50.pdf')"
      ],
      "execution_count": null,
      "outputs": []
    },
    {
      "cell_type": "markdown",
      "metadata": {
        "id": "PsOqKyysCZCv"
      },
      "source": [
        "**Statistical analysis | Mann-Whitney U Test**"
      ]
    },
    {
      "cell_type": "code",
      "metadata": {
        "id": "LPdV1vDnWBsh"
      },
      "source": [
        "def mannwhitney(descriptor, verbose=False):\n",
        "  # https://machinelearningmastery.com/nonparametric-statistical-significance-tests-in-python/\n",
        "  from numpy.random import seed\n",
        "  from numpy.random import randn\n",
        "  from scipy.stats import mannwhitneyu\n",
        "\n",
        "# seed the random number generator\n",
        "  seed(1)\n",
        "\n",
        "# actives and inactives\n",
        "  selection = [descriptor, 'class']\n",
        "  df = df_2class[selection]\n",
        "  active = df[df['class'] == 'active']\n",
        "  active = active[descriptor]\n",
        "\n",
        "  selection = [descriptor, 'class']\n",
        "  df = df_2class[selection]\n",
        "  inactive = df[df['class'] == 'inactive']\n",
        "  inactive = inactive[descriptor]\n",
        "\n",
        "# compare samples\n",
        "  stat, p = mannwhitneyu(active, inactive)\n",
        "  #print('Statistics=%.3f, p=%.3f' % (stat, p))\n",
        "\n",
        "# interpret\n",
        "  alpha = 0.05\n",
        "  if p > alpha:\n",
        "    interpretation = 'Same distribution (fail to reject H0)'\n",
        "  else:\n",
        "    interpretation = 'Different distribution (reject H0)'\n",
        "\n",
        "  results = pd.DataFrame({'Descriptor':descriptor,\n",
        "                          'Statistics':stat,\n",
        "                          'p':p,\n",
        "                          'alpha':alpha,\n",
        "                          'Interpretation':interpretation}, index=[0])\n",
        "  filename = 'mannwhitneyu_' + descriptor + '.csv'\n",
        "  results.to_csv(filename)\n",
        "\n",
        "  return results"
      ],
      "execution_count": null,
      "outputs": []
    },
    {
      "cell_type": "code",
      "metadata": {
        "id": "HZmUgOmdYVm5"
      },
      "source": [
        "mannwhitney('pIC50')"
      ],
      "execution_count": null,
      "outputs": []
    },
    {
      "cell_type": "markdown",
      "metadata": {
        "id": "o2UlCwPmyTBq"
      },
      "source": [
        "#### **MW**"
      ]
    },
    {
      "cell_type": "code",
      "metadata": {
        "id": "ZNlEEsDEx3m6"
      },
      "source": [
        "plt.figure(figsize=(5.5, 5.5))\n",
        "\n",
        "sns.boxplot(x = 'class', y = 'MW', data = df_2class)\n",
        "\n",
        "plt.xlabel('Bioactivity class', fontsize=14, fontweight='bold')\n",
        "plt.ylabel('MW', fontsize=14, fontweight='bold')\n",
        "\n",
        "plt.savefig('plot_MW.pdf')"
      ],
      "execution_count": null,
      "outputs": []
    },
    {
      "cell_type": "code",
      "metadata": {
        "id": "wRl2FvgHYqaG"
      },
      "source": [
        "mannwhitney('MW')"
      ],
      "execution_count": null,
      "outputs": []
    },
    {
      "cell_type": "markdown",
      "metadata": {
        "id": "z5hyBhGqyc6J"
      },
      "source": [
        "#### **LogP**"
      ]
    },
    {
      "cell_type": "code",
      "metadata": {
        "id": "liEtkpI4yX9t"
      },
      "source": [
        "plt.figure(figsize=(5.5, 5.5))\n",
        "\n",
        "sns.boxplot(x = 'class', y = 'LogP', data = df_2class)\n",
        "\n",
        "plt.xlabel('Bioactivity class', fontsize=14, fontweight='bold')\n",
        "plt.ylabel('LogP', fontsize=14, fontweight='bold')\n",
        "\n",
        "plt.savefig('plot_LogP.pdf')"
      ],
      "execution_count": null,
      "outputs": []
    },
    {
      "cell_type": "markdown",
      "metadata": {
        "id": "2KgV5v_oFLXh"
      },
      "source": [
        "**Statistical analysis | Mann-Whitney U Test**"
      ]
    },
    {
      "cell_type": "code",
      "metadata": {
        "id": "B61UsGMIFLuE"
      },
      "source": [
        "mannwhitney('LogP')"
      ],
      "execution_count": null,
      "outputs": []
    },
    {
      "cell_type": "markdown",
      "metadata": {
        "id": "4db7LZLRym2k"
      },
      "source": [
        "#### **NumHDonors**"
      ]
    },
    {
      "cell_type": "code",
      "metadata": {
        "id": "iru1JPM1yg5A"
      },
      "source": [
        "plt.figure(figsize=(5.5, 5.5))\n",
        "\n",
        "sns.boxplot(x = 'class', y = 'NumHDonors', data = df_2class)\n",
        "\n",
        "plt.xlabel('Bioactivity class', fontsize=14, fontweight='bold')\n",
        "plt.ylabel('NumHDonors', fontsize=14, fontweight='bold')\n",
        "\n",
        "plt.savefig('plot_NumHDonors.pdf')"
      ],
      "execution_count": null,
      "outputs": []
    },
    {
      "cell_type": "markdown",
      "metadata": {
        "id": "vM5vZWanFe3c"
      },
      "source": [
        "**Statistical analysis | Mann-Whitney U Test**"
      ]
    },
    {
      "cell_type": "code",
      "metadata": {
        "id": "mS-rOqq7Fd1E"
      },
      "source": [
        "mannwhitney('NumHDonors')"
      ],
      "execution_count": null,
      "outputs": []
    },
    {
      "cell_type": "markdown",
      "metadata": {
        "id": "yOYQ3QiSyu7-"
      },
      "source": [
        "#### **NumHAcceptors**"
      ]
    },
    {
      "cell_type": "code",
      "metadata": {
        "id": "yCw6tgNCyxHf"
      },
      "source": [
        "plt.figure(figsize=(5.5, 5.5))\n",
        "\n",
        "sns.boxplot(x = 'class', y = 'NumHAcceptors', data = df_2class)\n",
        "\n",
        "plt.xlabel('Bioactivity class', fontsize=14, fontweight='bold')\n",
        "plt.ylabel('NumHAcceptors', fontsize=14, fontweight='bold')\n",
        "\n",
        "plt.savefig('plot_NumHAcceptors.pdf')"
      ],
      "execution_count": null,
      "outputs": []
    },
    {
      "cell_type": "code",
      "metadata": {
        "id": "NEQoDZctFtGG"
      },
      "source": [
        "mannwhitney('NumHAcceptors')"
      ],
      "execution_count": null,
      "outputs": []
    },
    {
      "cell_type": "markdown",
      "metadata": {
        "id": "p4QjdHVjKYum"
      },
      "source": [
        "#### **Interpretation of Statistical Results**"
      ]
    },
    {
      "cell_type": "markdown",
      "metadata": {
        "id": "mSoOBIqfLbDs"
      },
      "source": [
        "##### **Box Plots**\n",
        "\n",
        "###### **pIC50 values**\n",
        "\n",
        "Taking a look at pIC50 values, the **actives** and **inactives** displayed ***statistically significant difference***, which is to be expected since threshold values (``IC50 < 1,000 nM = Actives while IC50 > 10,000 nM = Inactives``, corresponding to ``pIC50 > 6 = Actives and pIC50 < 5 = Inactives``) were used to define actives and inactives.\n",
        "\n",
        "###### **Lipinski's descriptors**\n",
        "\n",
        "All of the 4 Lipinski's descriptors exhibited ***statistically significant difference*** between the **actives** and **inactives**."
      ]
    },
    {
      "cell_type": "markdown",
      "metadata": {
        "id": "U-rK8l0wWnKK"
      },
      "source": [
        "## **Zip files**"
      ]
    },
    {
      "cell_type": "code",
      "metadata": {
        "id": "GW1ZSsfJWqbM"
      },
      "source": [
        "! zip -r results.zip . -i *.csv *.pdf"
      ],
      "execution_count": null,
      "outputs": []
    }
  ]
}